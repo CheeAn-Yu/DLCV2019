{
 "cells": [
  {
   "cell_type": "code",
   "execution_count": 1,
   "metadata": {},
   "outputs": [],
   "source": [
    "import pandas as pd\n",
    "import matplotlib.pyplot as plt\n",
    "import matplotlib\n",
    "\n",
    "action_predict = pd.read_csv(\"/home/robot/hw4-Chee-An-Yu/OP01-R02-TurkeySandwich.txt\",header=None,squeeze=True)\n",
    "action_predict = action_predict.values.tolist()\n",
    "ground_truth = pd.read_csv(\"/home/robot/hw4-Chee-An-Yu/hw4_data/FullLengthVideos/labels/valid/OP01-R02-TurkeySandwich.txt\",header=None,squeeze=True)\n",
    "ground_truth = ground_truth.values.tolist()\n",
    "plt.figure(figsize=(16,4))\n",
    "ax = plt.subplot(211)\n",
    "\n",
    "# colors = [\"wheat\", \"turqoise\", \"teal\", \"sienna\", \"salmon\", \"orange\", \n",
    "#           \"lightblue\", \"lavender\", \"gold\", \"darkblue\", \"azure\"]\n",
    "colors = plt.cm.get_cmap('tab20',11).colors\n",
    "cmap = matplotlib.colors.ListedColormap([colors[idx] for idx in action_predict])\n",
    "# cmap = plt.cm.get_cmap(\"tab20\", 11)\n",
    "bounds = [i for i in range(len(action_predict))]\n",
    "norm = matplotlib.colors.BoundaryNorm(bounds, cmap.N)\n",
    "cb1 = matplotlib.colorbar.ColorbarBase(ax, cmap=cmap,\n",
    "                                       norm=norm,\n",
    "                                       boundaries=bounds,\n",
    "                                       spacing='proportional',\n",
    "                                       orientation='horizontal')\n",
    "ax.set_ylabel('Prediction')\n",
    "\n",
    "ax2 = plt.subplot(212)\n",
    "cmap = matplotlib.colors.ListedColormap([colors[idx] for idx in ground_truth])\n",
    "bounds = [i for i in range(len(ground_truth))]\n",
    "norm = matplotlib.colors.BoundaryNorm(bounds, cmap.N)\n",
    "cb2 = matplotlib.colorbar.ColorbarBase(ax2, cmap=cmap,\n",
    "                                       norm=norm,\n",
    "                                       boundaries=bounds,\n",
    "                                       spacing='proportional',\n",
    "                                       orientation='horizontal')\n",
    "\n",
    "\n",
    "ax2.set_ylabel('GroundTruth')\n",
    "plt.savefig('7.png')"
   ]
  },
  {
   "cell_type": "code",
   "execution_count": 3,
   "metadata": {},
   "outputs": [
    {
     "data": {
      "image/png": "[encoded data removed]",
      "text/plain": [
       "<Figure size 1152x288 with 2 Axes>"
      ]
     },
     "metadata": {
      "needs_background": "light"
     },
     "output_type": "display_data"
    }
   ],
   "source": [
    "action_predict = pd.read_csv(\"/home/robot/hw4-Chee-An-Yu/OP01-R02-TurkeySandwich.txt\",header=None,squeeze=True)\n",
    "action_predict = action_predict.values.tolist()\n",
    "ground_truth = pd.read_csv(\"/home/robot/hw4-Chee-An-Yu/hw4_data/FullLengthVideos/labels/valid/OP01-R02-TurkeySandwich.txt\",header=None,squeeze=True)\n",
    "ground_truth = ground_truth.values.tolist()\n",
    "plt.figure(figsize=(16,4))\n",
    "ax = plt.subplot(211)\n",
    "\n",
    "# colors = [\"wheat\", \"turqoise\", \"teal\", \"sienna\", \"salmon\", \"orange\", \n",
    "#           \"lightblue\", \"lavender\", \"gold\", \"darkblue\", \"azure\"]\n",
    "colors = plt.cm.get_cmap('tab20',11).colors\n",
    "cmap = matplotlib.colors.ListedColormap([colors[idx] for idx in action_predict])\n",
    "# cmap = plt.cm.get_cmap(\"tab20\", 11)\n",
    "bounds = [i for i in range(len(action_predict))]\n",
    "norm = matplotlib.colors.BoundaryNorm(bounds, cmap.N)\n",
    "cb1 = matplotlib.colorbar.ColorbarBase(ax, cmap=cmap,\n",
    "                                       norm=norm,\n",
    "                                       boundaries=bounds,\n",
    "                                       spacing='proportional',\n",
    "                                       orientation='horizontal')\n",
    "ax.set_ylabel('Prediction')\n",
    "\n",
    "ax2 = plt.subplot(212)\n",
    "cmap = matplotlib.colors.ListedColormap([colors[idx] for idx in ground_truth])\n",
    "bounds = [i for i in range(len(ground_truth))]\n",
    "norm = matplotlib.colors.BoundaryNorm(bounds, cmap.N)\n",
    "cb2 = matplotlib.colorbar.ColorbarBase(ax2, cmap=cmap,\n",
    "                                       norm=norm,\n",
    "                                       boundaries=bounds,\n",
    "                                       spacing='proportional',\n",
    "                                       orientation='horizontal')\n",
    "\n",
    "\n",
    "ax2.set_ylabel('GroundTruth')\n",
    "plt.savefig('1.png')"
   ]
  },
  {
   "cell_type": "code",
   "execution_count": null,
   "metadata": {},
   "outputs": [],
   "source": []
  }
 ],
 "metadata": {
  "kernelspec": {
   "display_name": "Python 3",
   "language": "python",
   "name": "python3"
  },
  "language_info": {
   "codemirror_mode": {
    "name": "ipython",
    "version": 3
   },
   "file_extension": ".py",
   "mimetype": "text/x-python",
   "name": "python",
   "nbconvert_exporter": "python",
   "pygments_lexer": "ipython3",
   "version": "3.7.1"
  }
 },
 "nbformat": 4,
 "nbformat_minor": 2
}
